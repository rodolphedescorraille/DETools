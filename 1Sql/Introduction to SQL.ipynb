{
 "cells": [
  {
   "cell_type": "markdown",
   "metadata": {},
   "source": [
    "# Introduction to SQL"
   ]
  },
  {
   "cell_type": "markdown",
   "metadata": {},
   "source": [
    "Bienvenue dans cette série de leçons et d'exercices interactifs conçus pour vous aider à apprendre rapidement SQL directement dans votre navigateur."
   ]
  },
  {
   "cell_type": "markdown",
   "metadata": {},
   "source": [
    "## Qu'est-ce que SQL?"
   ]
  },
  {
   "cell_type": "markdown",
   "metadata": {},
   "source": [
    "SQL, ou Structured Query Language, est un langage conçu pour permettre aux utilisateurs techniques et non techniques d'interroger, de manipuler et de transformer des données à partir d'une base de données relationnelle. Et en raison de sa simplicité, les bases de données SQL fournissent un stockage sûr et évolutif pour des millions de sites Web et d'applications mobiles."
   ]
  },
  {
   "cell_type": "markdown",
   "metadata": {},
   "source": [
    "**Le saviez-vous?** Il existe de nombreuses bases de données SQL populaires, notamment SQLite, MySQL, Postgres, Oracle et Microsoft SQL Server. Tous prennent en charge la norme de langage SQL commune, ce que ce site enseignera, mais chaque implémentation peut différer par les fonctionnalités supplémentaires et les types de stockage qu'elle prend en charge."
   ]
  },
  {
   "cell_type": "markdown",
   "metadata": {},
   "source": [
    "## Bases de données relationnelles"
   ]
  },
  {
   "cell_type": "markdown",
   "metadata": {},
   "source": [
    "Avant d'apprendre la syntaxe SQL, il est important d'avoir un modèle pour ce qu'est réellement une base de données relationnelle. Une base de données relationnelle représente une collection de tables liées (bidimensionnelles). Chacun des tableaux est similaire à une feuille de calcul Excel, avec un nombre fixe de colonnes nommées (les attributs ou propriétés de la table) et un nombre quelconque de lignes de données."
   ]
  },
  {
   "cell_type": "markdown",
   "metadata": {},
   "source": [
    "Par exemple, si le Department of Motor Vehicles avait une base de données, vous pourriez trouver un tableau contenant tous les véhicules connus que les gens de l'État conduisent. Ce tableau peut avoir besoin de stocker le nom du modèle, le type, le nombre de roues et le nombre de portes de chaque véhicule par exemple."
   ]
  },
  {
   "cell_type": "code",
   "execution_count": 1,
   "metadata": {
    "ExecuteTime": {
     "end_time": "2021-01-18T14:39:30.233046Z",
     "start_time": "2021-01-18T14:39:29.458304Z"
    }
   },
   "outputs": [],
   "source": [
    "import pandas as pd\n",
    "\n",
    "def to_df(s):\n",
    "    l= [elt.split(';') for elt in s.replace(\"\t\", \";\").split('\\n')]\n",
    "    return pd.DataFrame(l[1:], columns=l[0])"
   ]
  },
  {
   "cell_type": "code",
   "execution_count": 2,
   "metadata": {
    "ExecuteTime": {
     "end_time": "2021-01-18T14:39:37.014374Z",
     "start_time": "2021-01-18T14:39:37.006826Z"
    }
   },
   "outputs": [],
   "source": [
    "x = \"\"\"Id\tMake/Model\t# Wheels\t# Doors\tType\n",
    "1\tFord Focus\t4\t4\tSedan\n",
    "2\tTesla Roadster\t4\t2\tSports\n",
    "3\tKawakasi Ninja\t2\t0\tMotorcycle\n",
    "4\tMcLaren Formula 1\t4\t0\tRace\n",
    "5\tTesla S\t4\t4\tSedan\"\"\"\n",
    "Vehicles = to_df(x)"
   ]
  },
  {
   "cell_type": "code",
   "execution_count": 3,
   "metadata": {
    "ExecuteTime": {
     "end_time": "2021-01-18T14:39:41.392217Z",
     "start_time": "2021-01-18T14:39:41.374961Z"
    }
   },
   "outputs": [
    {
     "data": {
      "text/html": [
       "<div>\n",
       "<style scoped>\n",
       "    .dataframe tbody tr th:only-of-type {\n",
       "        vertical-align: middle;\n",
       "    }\n",
       "\n",
       "    .dataframe tbody tr th {\n",
       "        vertical-align: top;\n",
       "    }\n",
       "\n",
       "    .dataframe thead th {\n",
       "        text-align: right;\n",
       "    }\n",
       "</style>\n",
       "<table border=\"1\" class=\"dataframe\">\n",
       "  <thead>\n",
       "    <tr style=\"text-align: right;\">\n",
       "      <th></th>\n",
       "      <th>Id</th>\n",
       "      <th>Make/Model</th>\n",
       "      <th># Wheels</th>\n",
       "      <th># Doors</th>\n",
       "      <th>Type</th>\n",
       "    </tr>\n",
       "  </thead>\n",
       "  <tbody>\n",
       "    <tr>\n",
       "      <th>0</th>\n",
       "      <td>1</td>\n",
       "      <td>Ford Focus</td>\n",
       "      <td>4</td>\n",
       "      <td>4</td>\n",
       "      <td>Sedan</td>\n",
       "    </tr>\n",
       "    <tr>\n",
       "      <th>1</th>\n",
       "      <td>2</td>\n",
       "      <td>Tesla Roadster</td>\n",
       "      <td>4</td>\n",
       "      <td>2</td>\n",
       "      <td>Sports</td>\n",
       "    </tr>\n",
       "    <tr>\n",
       "      <th>2</th>\n",
       "      <td>3</td>\n",
       "      <td>Kawakasi Ninja</td>\n",
       "      <td>2</td>\n",
       "      <td>0</td>\n",
       "      <td>Motorcycle</td>\n",
       "    </tr>\n",
       "    <tr>\n",
       "      <th>3</th>\n",
       "      <td>4</td>\n",
       "      <td>McLaren Formula 1</td>\n",
       "      <td>4</td>\n",
       "      <td>0</td>\n",
       "      <td>Race</td>\n",
       "    </tr>\n",
       "    <tr>\n",
       "      <th>4</th>\n",
       "      <td>5</td>\n",
       "      <td>Tesla S</td>\n",
       "      <td>4</td>\n",
       "      <td>4</td>\n",
       "      <td>Sedan</td>\n",
       "    </tr>\n",
       "  </tbody>\n",
       "</table>\n",
       "</div>"
      ],
      "text/plain": [
       "  Id         Make/Model # Wheels # Doors        Type\n",
       "0  1         Ford Focus        4       4       Sedan\n",
       "1  2     Tesla Roadster        4       2      Sports\n",
       "2  3     Kawakasi Ninja        2       0  Motorcycle\n",
       "3  4  McLaren Formula 1        4       0        Race\n",
       "4  5            Tesla S        4       4       Sedan"
      ]
     },
     "execution_count": 3,
     "metadata": {},
     "output_type": "execute_result"
    }
   ],
   "source": [
    "Vehicles"
   ]
  },
  {
   "cell_type": "markdown",
   "metadata": {},
   "source": [
    "Dans une telle base de données, vous pouvez trouver des tableaux connexes supplémentaires contenant des informations telles qu'une liste de tous les conducteurs enregistrés dans l'État, les types de permis de conduire qui peuvent être accordés, ou même des violations de conduite pour chaque conducteur."
   ]
  },
  {
   "cell_type": "markdown",
   "metadata": {},
   "source": [
    "En apprenant SQL, l'objectif est d'apprendre à répondre à des questions spécifiques sur ces données, telles que * «Quels types de véhicules sur la route ont moins de quatre roues?» *, Ou * «Combien de modèles de voitures Tesla produit-il? \"*, pour nous aider à prendre de meilleures décisions plus tard."
   ]
  },
  {
   "cell_type": "markdown",
   "metadata": {},
   "source": [
    "## À propos des leçons"
   ]
  },
  {
   "cell_type": "markdown",
   "metadata": {},
   "source": [
    "Étant donné que la plupart des utilisateurs apprendront SQL à interagir avec une base de données existante, les leçons commencent par vous présenter les différentes parties d'une requête SQL. Les leçons suivantes vous montreront ensuite comment modifier une table (ou un schéma) et créer de nouvelles tables à partir de zéro."
   ]
  },
  {
   "cell_type": "markdown",
   "metadata": {},
   "source": [
    "Chaque leçon présentera un concept différent et se terminera par un exercice interactif. Allez à votre rythme et n'ayez pas peur de passer du temps à expérimenter les exercices avant de continuer! Si vous êtes déjà familiarisé avec SQL, vous pouvez sauter en utilisant les liens en haut à droite, mais nous vous recommandons de suivre les leçons quand même!"
   ]
  },
  {
   "cell_type": "markdown",
   "metadata": {},
   "source": [
    "À la fin, nous espérons que vous serez en mesure d'avoir une base solide pour utiliser SQL dans vos propres projets et au-delà."
   ]
  },
  {
   "cell_type": "markdown",
   "metadata": {
    "ExecuteTime": {
     "end_time": "2021-01-18T14:41:43.319722Z",
     "start_time": "2021-01-18T14:41:43.316799Z"
    }
   },
   "source": [
    "## Installation"
   ]
  },
  {
   "cell_type": "markdown",
   "metadata": {
    "ExecuteTime": {
     "end_time": "2021-01-18T14:42:11.009917Z",
     "start_time": "2021-01-18T14:42:11.004949Z"
    }
   },
   "source": [
    "Installer ce package afin de pouvoir executer des commandes sql"
   ]
  },
  {
   "cell_type": "code",
   "execution_count": 1,
   "metadata": {},
   "outputs": [
    {
     "name": "stdout",
     "output_type": "stream",
     "text": [
      "Collecting pandasql\n",
      "  Downloading pandasql-0.7.3.tar.gz (26 kB)\n",
      "Requirement already satisfied: numpy in /root/.local/share/virtualenvs/code-AFz48Hjb/lib/python3.6/site-packages (from pandasql) (1.19.5)\n",
      "Requirement already satisfied: pandas in /root/.local/share/virtualenvs/code-AFz48Hjb/lib/python3.6/site-packages (from pandasql) (0.20.3)\n",
      "Collecting sqlalchemy\n",
      "  Downloading SQLAlchemy-1.3.23-cp36-cp36m-manylinux2010_x86_64.whl (1.3 MB)\n",
      "\u001b[K     |████████████████████████████████| 1.3 MB 8.1 MB/s eta 0:00:01\n",
      "\u001b[?25hRequirement already satisfied: python-dateutil>=2 in /root/.local/share/virtualenvs/code-AFz48Hjb/lib/python3.6/site-packages (from pandas->pandasql) (2.8.1)\n",
      "Requirement already satisfied: pytz>=2011k in /root/.local/share/virtualenvs/code-AFz48Hjb/lib/python3.6/site-packages (from pandas->pandasql) (2021.1)\n",
      "Requirement already satisfied: six>=1.5 in /root/.local/share/virtualenvs/code-AFz48Hjb/lib/python3.6/site-packages (from python-dateutil>=2->pandas->pandasql) (1.15.0)\n",
      "Building wheels for collected packages: pandasql\n",
      "  Building wheel for pandasql (setup.py) ... \u001b[?25ldone\n",
      "\u001b[?25h  Created wheel for pandasql: filename=pandasql-0.7.3-py3-none-any.whl size=26818 sha256=0d0b368e1e4f859efeeb6f149031481eee434d2278b8b5a253cc7b660dd7c67f\n",
      "  Stored in directory: /root/.cache/pip/wheels/a6/64/11/62d5f7b88421a5d80068ac9937fe2915e497da3eba900c8f59\n",
      "Successfully built pandasql\n",
      "Installing collected packages: sqlalchemy, pandasql\n",
      "Successfully installed pandasql-0.7.3 sqlalchemy-1.3.23\n"
     ]
    }
   ],
   "source": [
    "!pip install pandasql"
   ]
  },
  {
   "cell_type": "code",
   "execution_count": null,
   "metadata": {},
   "outputs": [],
   "source": []
  }
 ],
 "metadata": {
  "kernelspec": {
   "display_name": "Python 3",
   "language": "python",
   "name": "python3"
  },
  "language_info": {
   "codemirror_mode": {
    "name": "ipython",
    "version": 3
   },
   "file_extension": ".py",
   "mimetype": "text/x-python",
   "name": "python",
   "nbconvert_exporter": "python",
   "pygments_lexer": "ipython3",
   "version": "3.6.13"
  }
 },
 "nbformat": 4,
 "nbformat_minor": 1
}
