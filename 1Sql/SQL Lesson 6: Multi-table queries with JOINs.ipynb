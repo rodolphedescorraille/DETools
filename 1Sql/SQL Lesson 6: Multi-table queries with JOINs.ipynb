{
 "cells": [
  {
   "cell_type": "markdown",
   "metadata": {},
   "source": [
    "# Leçon SQL 6: Requêtes multi-tables avec JOIN"
   ]
  },
  {
   "cell_type": "markdown",
   "metadata": {},
   "source": [
    "Jusqu'à présent, nous avons travaillé avec une seule table, mais les données d'entité dans le monde réel sont souvent décomposées en morceaux et stockées sur plusieurs tables orthogonales à l'aide d'un processus appelé * normalisation * [[1]] (http: / /en.wikipedia.org/wiki/Database_normalization \"Normalisation de la base de données\")."
   ]
  },
  {
   "cell_type": "markdown",
   "metadata": {},
   "source": [
    "## Normalisation de la base de données"
   ]
  },
  {
   "cell_type": "markdown",
   "metadata": {},
   "source": [
    "La normalisation de la base de données est utile car elle minimise les données en double dans n'importe quelle table et permet aux données de la base de données de croître indépendamment les unes des autres (c'est-à-dire que les types de moteurs de voiture peuvent croître indépendamment de chaque type de voiture). En contrepartie, les requêtes deviennent un peu plus complexes car elles doivent pouvoir trouver des données à partir de différentes parties de la base de données, et des problèmes de performances peuvent survenir lors de l'utilisation de nombreuses tables volumineuses."
   ]
  },
  {
   "cell_type": "markdown",
   "metadata": {},
   "source": [
    "Afin de répondre aux questions sur une entité dont les données couvrent plusieurs tables dans une base de données normalisée, nous devons apprendre à écrire une requête capable de combiner toutes ces données et d'extraire exactement les informations dont nous avons besoin."
   ]
  },
  {
   "cell_type": "markdown",
   "metadata": {},
   "source": [
    "## Requêtes multi-tables avec JOIN"
   ]
  },
  {
   "cell_type": "markdown",
   "metadata": {},
   "source": [
    "Les tables qui partagent des informations sur une seule entité doivent avoir une **clé primaire** qui identifie cette entité **de manière unique** dans la base de données. Un type de clé primaire courant est un entier auto-incrémenté (car ils sont économes en espace), mais il peut également s'agir d'une chaîne, d'une valeur hachée, tant qu'elle est unique."
   ]
  },
  {
   "cell_type": "markdown",
   "metadata": {},
   "source": [
    "Sélectionnez la requête avec INNER JOIN sur plusieurs tables\n",
    "``` mysql \n",
    "SELECT column, another_table_column, …\n",
    "FROM mytable\n",
    "INNER JOIN another_table \n",
    "    ON mytable.id = another_table.id\n",
    "WHERE condition(s)\n",
    "ORDER BY column, … ASC/DESC\n",
    "LIMIT num_limit OFFSET num_offset;\n",
    "```"
   ]
  },
  {
   "cell_type": "markdown",
   "metadata": {},
   "source": [
    "Le **INNER JOIN** est un processus qui fait correspondre les lignes de la première table et de la deuxième table qui ont la même clé (telle que définie par la contrainte **ON**) pour créer une ligne de résultat avec les colonnes combinées des deux tables. Une fois les tables jointes, les autres clauses que nous avons apprises précédemment sont ensuite appliquées."
   ]
  },
  {
   "cell_type": "markdown",
   "metadata": {},
   "source": [
    "**Le saviez-vous?** Vous pouvez voir des requêtes dans lesquelles INNER JOIN est écrit simplement comme JOIN. Ces deux éléments sont équivalents, mais nous continuerons à désigner ces jointures comme des jointures internes, car elles facilitent la lecture de la requête une fois que vous commencez à utiliser d'autres types de jointures, qui seront présentées dans la leçon suivante."
   ]
  },
  {
   "cell_type": "markdown",
   "metadata": {},
   "source": [
    "## Exercice"
   ]
  },
  {
   "cell_type": "markdown",
   "metadata": {},
   "source": [
    "Nous avons ajouté une nouvelle table à la base de données Pixar afin que vous puissiez essayer de pratiquer certaines jointures. La table **BoxOffice** stocke des informations sur les évaluations et les ventes de chaque film Pixar particulier, et la colonne *Movie_id* de cette tabble correspond à la colonne *Id* du tableau **Movies** 1-to- 1. Essayez de résoudre les tâches ci-dessous en utilisant **INNER JOIN** présenté ci-dessus."
   ]
  },
  {
   "cell_type": "markdown",
   "metadata": {},
   "source": [
    "**IMPORTANT : Afin de répondre aux questions de l'exercise d'insérer la requête entre les doubles quotes \" \"**"
   ]
  },
  {
   "cell_type": "code",
   "execution_count": 1,
   "metadata": {
    "ExecuteTime": {
     "end_time": "2021-01-18T15:24:44.836256Z",
     "start_time": "2021-01-18T15:24:43.949749Z"
    }
   },
   "outputs": [],
   "source": [
    "import pandas as pd\n",
    "\n",
    "def to_df(s):\n",
    "    l= [elt.split(';') for elt in s.replace(\"\t\", \";\").split('\\n')]\n",
    "    return pd.DataFrame(l[1:], columns=l[0])"
   ]
  },
  {
   "cell_type": "code",
   "execution_count": 2,
   "metadata": {
    "ExecuteTime": {
     "end_time": "2021-01-18T14:27:09.744670Z",
     "start_time": "2021-01-18T14:27:09.595039Z"
    }
   },
   "outputs": [],
   "source": [
    "from pandasql import sqldf"
   ]
  },
  {
   "cell_type": "code",
   "execution_count": 3,
   "metadata": {
    "ExecuteTime": {
     "end_time": "2021-01-18T14:18:28.252590Z",
     "start_time": "2021-01-18T14:18:28.247870Z"
    }
   },
   "outputs": [],
   "source": [
    "x=\"\"\"Id\tTitle\tDirector\tYear\tLength_minutes\n",
    "1\tToy Story\tJohn Lasseter\t1995\t81\n",
    "2\tA Bug's Life\tJohn Lasseter\t1998\t95\n",
    "3\tToy Story 2\tJohn Lasseter\t1999\t93\n",
    "4\tMonsters, Inc.\tPete Docter\t2001\t92\n",
    "5\tFinding Nemo\tAndrew Stanton\t2003\t107\n",
    "6\tThe Incredibles\tBrad Bird\t2004\t116\n",
    "7\tCars\tJohn Lasseter\t2006\t117\n",
    "8\tRatatouille\tBrad Bird\t2007\t115\n",
    "9\tWALL-E\tAndrew Stanton\t2008\t104\n",
    "10\tUp\tPete Docter\t2009\t101\n",
    "11\tToy Story 3\tLee Unkrich\t2010\t103\n",
    "12\tCars 2\tJohn Lasseter\t2011\t120\n",
    "13\tBrave\tBrenda Chapman\t2012\t102\n",
    "14\tMonsters University\tDan Scanlon\t2013\t110\"\"\"\n",
    "Movies = to_df(x)"
   ]
  },
  {
   "cell_type": "code",
   "execution_count": 4,
   "metadata": {
    "ExecuteTime": {
     "end_time": "2021-01-18T14:18:32.458180Z",
     "start_time": "2021-01-18T14:18:32.444895Z"
    }
   },
   "outputs": [
    {
     "data": {
      "text/html": [
       "<div>\n",
       "<style>\n",
       "    .dataframe thead tr:only-child th {\n",
       "        text-align: right;\n",
       "    }\n",
       "\n",
       "    .dataframe thead th {\n",
       "        text-align: left;\n",
       "    }\n",
       "\n",
       "    .dataframe tbody tr th {\n",
       "        vertical-align: top;\n",
       "    }\n",
       "</style>\n",
       "<table border=\"1\" class=\"dataframe\">\n",
       "  <thead>\n",
       "    <tr style=\"text-align: right;\">\n",
       "      <th></th>\n",
       "      <th>Id</th>\n",
       "      <th>Title</th>\n",
       "      <th>Director</th>\n",
       "      <th>Year</th>\n",
       "      <th>Length_minutes</th>\n",
       "    </tr>\n",
       "  </thead>\n",
       "  <tbody>\n",
       "    <tr>\n",
       "      <th>0</th>\n",
       "      <td>1</td>\n",
       "      <td>Toy Story</td>\n",
       "      <td>John Lasseter</td>\n",
       "      <td>1995</td>\n",
       "      <td>81</td>\n",
       "    </tr>\n",
       "    <tr>\n",
       "      <th>1</th>\n",
       "      <td>2</td>\n",
       "      <td>A Bug's Life</td>\n",
       "      <td>John Lasseter</td>\n",
       "      <td>1998</td>\n",
       "      <td>95</td>\n",
       "    </tr>\n",
       "    <tr>\n",
       "      <th>2</th>\n",
       "      <td>3</td>\n",
       "      <td>Toy Story 2</td>\n",
       "      <td>John Lasseter</td>\n",
       "      <td>1999</td>\n",
       "      <td>93</td>\n",
       "    </tr>\n",
       "    <tr>\n",
       "      <th>3</th>\n",
       "      <td>4</td>\n",
       "      <td>Monsters, Inc.</td>\n",
       "      <td>Pete Docter</td>\n",
       "      <td>2001</td>\n",
       "      <td>92</td>\n",
       "    </tr>\n",
       "    <tr>\n",
       "      <th>4</th>\n",
       "      <td>5</td>\n",
       "      <td>Finding Nemo</td>\n",
       "      <td>Andrew Stanton</td>\n",
       "      <td>2003</td>\n",
       "      <td>107</td>\n",
       "    </tr>\n",
       "    <tr>\n",
       "      <th>5</th>\n",
       "      <td>6</td>\n",
       "      <td>The Incredibles</td>\n",
       "      <td>Brad Bird</td>\n",
       "      <td>2004</td>\n",
       "      <td>116</td>\n",
       "    </tr>\n",
       "    <tr>\n",
       "      <th>6</th>\n",
       "      <td>7</td>\n",
       "      <td>Cars</td>\n",
       "      <td>John Lasseter</td>\n",
       "      <td>2006</td>\n",
       "      <td>117</td>\n",
       "    </tr>\n",
       "    <tr>\n",
       "      <th>7</th>\n",
       "      <td>8</td>\n",
       "      <td>Ratatouille</td>\n",
       "      <td>Brad Bird</td>\n",
       "      <td>2007</td>\n",
       "      <td>115</td>\n",
       "    </tr>\n",
       "    <tr>\n",
       "      <th>8</th>\n",
       "      <td>9</td>\n",
       "      <td>WALL-E</td>\n",
       "      <td>Andrew Stanton</td>\n",
       "      <td>2008</td>\n",
       "      <td>104</td>\n",
       "    </tr>\n",
       "    <tr>\n",
       "      <th>9</th>\n",
       "      <td>10</td>\n",
       "      <td>Up</td>\n",
       "      <td>Pete Docter</td>\n",
       "      <td>2009</td>\n",
       "      <td>101</td>\n",
       "    </tr>\n",
       "    <tr>\n",
       "      <th>10</th>\n",
       "      <td>11</td>\n",
       "      <td>Toy Story 3</td>\n",
       "      <td>Lee Unkrich</td>\n",
       "      <td>2010</td>\n",
       "      <td>103</td>\n",
       "    </tr>\n",
       "    <tr>\n",
       "      <th>11</th>\n",
       "      <td>12</td>\n",
       "      <td>Cars 2</td>\n",
       "      <td>John Lasseter</td>\n",
       "      <td>2011</td>\n",
       "      <td>120</td>\n",
       "    </tr>\n",
       "    <tr>\n",
       "      <th>12</th>\n",
       "      <td>13</td>\n",
       "      <td>Brave</td>\n",
       "      <td>Brenda Chapman</td>\n",
       "      <td>2012</td>\n",
       "      <td>102</td>\n",
       "    </tr>\n",
       "    <tr>\n",
       "      <th>13</th>\n",
       "      <td>14</td>\n",
       "      <td>Monsters University</td>\n",
       "      <td>Dan Scanlon</td>\n",
       "      <td>2013</td>\n",
       "      <td>110</td>\n",
       "    </tr>\n",
       "  </tbody>\n",
       "</table>\n",
       "</div>"
      ],
      "text/plain": [
       "    Id                Title        Director  Year Length_minutes\n",
       "0    1            Toy Story   John Lasseter  1995             81\n",
       "1    2         A Bug's Life   John Lasseter  1998             95\n",
       "2    3          Toy Story 2   John Lasseter  1999             93\n",
       "3    4       Monsters, Inc.     Pete Docter  2001             92\n",
       "4    5         Finding Nemo  Andrew Stanton  2003            107\n",
       "5    6      The Incredibles       Brad Bird  2004            116\n",
       "6    7                 Cars   John Lasseter  2006            117\n",
       "7    8          Ratatouille       Brad Bird  2007            115\n",
       "8    9               WALL-E  Andrew Stanton  2008            104\n",
       "9   10                   Up     Pete Docter  2009            101\n",
       "10  11          Toy Story 3     Lee Unkrich  2010            103\n",
       "11  12               Cars 2   John Lasseter  2011            120\n",
       "12  13                Brave  Brenda Chapman  2012            102\n",
       "13  14  Monsters University     Dan Scanlon  2013            110"
      ]
     },
     "execution_count": 4,
     "metadata": {},
     "output_type": "execute_result"
    }
   ],
   "source": [
    "Movies"
   ]
  },
  {
   "cell_type": "code",
   "execution_count": 5,
   "metadata": {
    "ExecuteTime": {
     "end_time": "2021-01-18T15:24:48.287073Z",
     "start_time": "2021-01-18T15:24:48.280480Z"
    }
   },
   "outputs": [],
   "source": [
    "y=\"\"\"Movie_id\tRating\tDomestic_sales\tInternational_sales\n",
    "5\t8.2\t380843261\t555900000\n",
    "14\t7.4\t268492764\t475066843\n",
    "8\t8\t206445654\t417277164\n",
    "12\t6.4\t191452396\t368400000\n",
    "3\t7.9\t245852179\t239163000\n",
    "6\t8\t261441092\t370001000\n",
    "9\t8.5\t223808164\t297503696\n",
    "11\t8.4\t415004880\t648167031\n",
    "1\t8.3\t191796233\t170162503\n",
    "7\t7.2\t244082982\t217900167\n",
    "10\t8.3\t293004164\t438338580\n",
    "4\t8.1\t289916256\t272900000\n",
    "2\t7.2\t162798565\t200600000\n",
    "13\t7.2\t237283207\t301700000\"\"\"\n",
    "BoxOffice = to_df(y)"
   ]
  },
  {
   "cell_type": "code",
   "execution_count": 6,
   "metadata": {
    "ExecuteTime": {
     "end_time": "2021-01-18T15:24:49.921470Z",
     "start_time": "2021-01-18T15:24:49.900268Z"
    }
   },
   "outputs": [
    {
     "data": {
      "text/html": [
       "<div>\n",
       "<style>\n",
       "    .dataframe thead tr:only-child th {\n",
       "        text-align: right;\n",
       "    }\n",
       "\n",
       "    .dataframe thead th {\n",
       "        text-align: left;\n",
       "    }\n",
       "\n",
       "    .dataframe tbody tr th {\n",
       "        vertical-align: top;\n",
       "    }\n",
       "</style>\n",
       "<table border=\"1\" class=\"dataframe\">\n",
       "  <thead>\n",
       "    <tr style=\"text-align: right;\">\n",
       "      <th></th>\n",
       "      <th>Movie_id</th>\n",
       "      <th>Rating</th>\n",
       "      <th>Domestic_sales</th>\n",
       "      <th>International_sales</th>\n",
       "    </tr>\n",
       "  </thead>\n",
       "  <tbody>\n",
       "    <tr>\n",
       "      <th>0</th>\n",
       "      <td>5</td>\n",
       "      <td>8.2</td>\n",
       "      <td>380843261</td>\n",
       "      <td>555900000</td>\n",
       "    </tr>\n",
       "    <tr>\n",
       "      <th>1</th>\n",
       "      <td>14</td>\n",
       "      <td>7.4</td>\n",
       "      <td>268492764</td>\n",
       "      <td>475066843</td>\n",
       "    </tr>\n",
       "    <tr>\n",
       "      <th>2</th>\n",
       "      <td>8</td>\n",
       "      <td>8</td>\n",
       "      <td>206445654</td>\n",
       "      <td>417277164</td>\n",
       "    </tr>\n",
       "    <tr>\n",
       "      <th>3</th>\n",
       "      <td>12</td>\n",
       "      <td>6.4</td>\n",
       "      <td>191452396</td>\n",
       "      <td>368400000</td>\n",
       "    </tr>\n",
       "    <tr>\n",
       "      <th>4</th>\n",
       "      <td>3</td>\n",
       "      <td>7.9</td>\n",
       "      <td>245852179</td>\n",
       "      <td>239163000</td>\n",
       "    </tr>\n",
       "    <tr>\n",
       "      <th>5</th>\n",
       "      <td>6</td>\n",
       "      <td>8</td>\n",
       "      <td>261441092</td>\n",
       "      <td>370001000</td>\n",
       "    </tr>\n",
       "    <tr>\n",
       "      <th>6</th>\n",
       "      <td>9</td>\n",
       "      <td>8.5</td>\n",
       "      <td>223808164</td>\n",
       "      <td>297503696</td>\n",
       "    </tr>\n",
       "    <tr>\n",
       "      <th>7</th>\n",
       "      <td>11</td>\n",
       "      <td>8.4</td>\n",
       "      <td>415004880</td>\n",
       "      <td>648167031</td>\n",
       "    </tr>\n",
       "    <tr>\n",
       "      <th>8</th>\n",
       "      <td>1</td>\n",
       "      <td>8.3</td>\n",
       "      <td>191796233</td>\n",
       "      <td>170162503</td>\n",
       "    </tr>\n",
       "    <tr>\n",
       "      <th>9</th>\n",
       "      <td>7</td>\n",
       "      <td>7.2</td>\n",
       "      <td>244082982</td>\n",
       "      <td>217900167</td>\n",
       "    </tr>\n",
       "    <tr>\n",
       "      <th>10</th>\n",
       "      <td>10</td>\n",
       "      <td>8.3</td>\n",
       "      <td>293004164</td>\n",
       "      <td>438338580</td>\n",
       "    </tr>\n",
       "    <tr>\n",
       "      <th>11</th>\n",
       "      <td>4</td>\n",
       "      <td>8.1</td>\n",
       "      <td>289916256</td>\n",
       "      <td>272900000</td>\n",
       "    </tr>\n",
       "    <tr>\n",
       "      <th>12</th>\n",
       "      <td>2</td>\n",
       "      <td>7.2</td>\n",
       "      <td>162798565</td>\n",
       "      <td>200600000</td>\n",
       "    </tr>\n",
       "    <tr>\n",
       "      <th>13</th>\n",
       "      <td>13</td>\n",
       "      <td>7.2</td>\n",
       "      <td>237283207</td>\n",
       "      <td>301700000</td>\n",
       "    </tr>\n",
       "  </tbody>\n",
       "</table>\n",
       "</div>"
      ],
      "text/plain": [
       "   Movie_id Rating Domestic_sales International_sales\n",
       "0         5    8.2      380843261           555900000\n",
       "1        14    7.4      268492764           475066843\n",
       "2         8      8      206445654           417277164\n",
       "3        12    6.4      191452396           368400000\n",
       "4         3    7.9      245852179           239163000\n",
       "5         6      8      261441092           370001000\n",
       "6         9    8.5      223808164           297503696\n",
       "7        11    8.4      415004880           648167031\n",
       "8         1    8.3      191796233           170162503\n",
       "9         7    7.2      244082982           217900167\n",
       "10       10    8.3      293004164           438338580\n",
       "11        4    8.1      289916256           272900000\n",
       "12        2    7.2      162798565           200600000\n",
       "13       13    7.2      237283207           301700000"
      ]
     },
     "execution_count": 6,
     "metadata": {},
     "output_type": "execute_result"
    }
   ],
   "source": [
    "BoxOffice"
   ]
  },
  {
   "cell_type": "markdown",
   "metadata": {},
   "source": [
    "1. Trouvez les ventes nationales et internationales de chaque film\n"
   ]
  },
  {
   "cell_type": "code",
   "execution_count": 7,
   "metadata": {
    "ExecuteTime": {
     "end_time": "2021-01-18T14:28:09.886634Z",
     "start_time": "2021-01-18T14:28:09.883564Z"
    }
   },
   "outputs": [],
   "source": [
    "QUERY1 = \"SELECT Title,Domestic_sales, International_sales  FROM Movies INNER JOIN BoxOffice ON Movies.Id = BoxOffice.Movie_id\""
   ]
  },
  {
   "cell_type": "code",
   "execution_count": 8,
   "metadata": {
    "ExecuteTime": {
     "end_time": "2021-01-18T14:28:11.183492Z",
     "start_time": "2021-01-18T14:28:11.159723Z"
    }
   },
   "outputs": [
    {
     "data": {
      "text/html": [
       "<div>\n",
       "<style>\n",
       "    .dataframe thead tr:only-child th {\n",
       "        text-align: right;\n",
       "    }\n",
       "\n",
       "    .dataframe thead th {\n",
       "        text-align: left;\n",
       "    }\n",
       "\n",
       "    .dataframe tbody tr th {\n",
       "        vertical-align: top;\n",
       "    }\n",
       "</style>\n",
       "<table border=\"1\" class=\"dataframe\">\n",
       "  <thead>\n",
       "    <tr style=\"text-align: right;\">\n",
       "      <th></th>\n",
       "      <th>Title</th>\n",
       "      <th>Domestic_sales</th>\n",
       "      <th>International_sales</th>\n",
       "    </tr>\n",
       "  </thead>\n",
       "  <tbody>\n",
       "    <tr>\n",
       "      <th>0</th>\n",
       "      <td>Toy Story</td>\n",
       "      <td>191796233</td>\n",
       "      <td>170162503</td>\n",
       "    </tr>\n",
       "    <tr>\n",
       "      <th>1</th>\n",
       "      <td>A Bug's Life</td>\n",
       "      <td>162798565</td>\n",
       "      <td>200600000</td>\n",
       "    </tr>\n",
       "    <tr>\n",
       "      <th>2</th>\n",
       "      <td>Toy Story 2</td>\n",
       "      <td>245852179</td>\n",
       "      <td>239163000</td>\n",
       "    </tr>\n",
       "    <tr>\n",
       "      <th>3</th>\n",
       "      <td>Monsters, Inc.</td>\n",
       "      <td>289916256</td>\n",
       "      <td>272900000</td>\n",
       "    </tr>\n",
       "    <tr>\n",
       "      <th>4</th>\n",
       "      <td>Finding Nemo</td>\n",
       "      <td>380843261</td>\n",
       "      <td>555900000</td>\n",
       "    </tr>\n",
       "    <tr>\n",
       "      <th>5</th>\n",
       "      <td>The Incredibles</td>\n",
       "      <td>261441092</td>\n",
       "      <td>370001000</td>\n",
       "    </tr>\n",
       "    <tr>\n",
       "      <th>6</th>\n",
       "      <td>Cars</td>\n",
       "      <td>244082982</td>\n",
       "      <td>217900167</td>\n",
       "    </tr>\n",
       "    <tr>\n",
       "      <th>7</th>\n",
       "      <td>Ratatouille</td>\n",
       "      <td>206445654</td>\n",
       "      <td>417277164</td>\n",
       "    </tr>\n",
       "    <tr>\n",
       "      <th>8</th>\n",
       "      <td>WALL-E</td>\n",
       "      <td>223808164</td>\n",
       "      <td>297503696</td>\n",
       "    </tr>\n",
       "    <tr>\n",
       "      <th>9</th>\n",
       "      <td>Up</td>\n",
       "      <td>293004164</td>\n",
       "      <td>438338580</td>\n",
       "    </tr>\n",
       "    <tr>\n",
       "      <th>10</th>\n",
       "      <td>Toy Story 3</td>\n",
       "      <td>415004880</td>\n",
       "      <td>648167031</td>\n",
       "    </tr>\n",
       "    <tr>\n",
       "      <th>11</th>\n",
       "      <td>Cars 2</td>\n",
       "      <td>191452396</td>\n",
       "      <td>368400000</td>\n",
       "    </tr>\n",
       "    <tr>\n",
       "      <th>12</th>\n",
       "      <td>Brave</td>\n",
       "      <td>237283207</td>\n",
       "      <td>301700000</td>\n",
       "    </tr>\n",
       "    <tr>\n",
       "      <th>13</th>\n",
       "      <td>Monsters University</td>\n",
       "      <td>268492764</td>\n",
       "      <td>475066843</td>\n",
       "    </tr>\n",
       "  </tbody>\n",
       "</table>\n",
       "</div>"
      ],
      "text/plain": [
       "                  Title Domestic_sales International_sales\n",
       "0             Toy Story      191796233           170162503\n",
       "1          A Bug's Life      162798565           200600000\n",
       "2           Toy Story 2      245852179           239163000\n",
       "3        Monsters, Inc.      289916256           272900000\n",
       "4          Finding Nemo      380843261           555900000\n",
       "5       The Incredibles      261441092           370001000\n",
       "6                  Cars      244082982           217900167\n",
       "7           Ratatouille      206445654           417277164\n",
       "8                WALL-E      223808164           297503696\n",
       "9                    Up      293004164           438338580\n",
       "10          Toy Story 3      415004880           648167031\n",
       "11               Cars 2      191452396           368400000\n",
       "12                Brave      237283207           301700000\n",
       "13  Monsters University      268492764           475066843"
      ]
     },
     "execution_count": 8,
     "metadata": {},
     "output_type": "execute_result"
    }
   ],
   "source": [
    "sqldf(QUERY1)"
   ]
  },
  {
   "cell_type": "markdown",
   "metadata": {},
   "source": [
    "2. Afficher les chiffres de vente de chaque film qui a fait mieux au niveau international qu'au niveau national"
   ]
  },
  {
   "cell_type": "code",
   "execution_count": 11,
   "metadata": {
    "ExecuteTime": {
     "end_time": "2021-01-18T14:28:09.886634Z",
     "start_time": "2021-01-18T14:28:09.883564Z"
    }
   },
   "outputs": [],
   "source": [
    "QUERY2 = \"SELECT Title,Domestic_sales, International_sales  FROM Movies INNER JOIN BoxOffice ON Movies.Id = BoxOffice.Movie_id WHERE International_sales > Domestic_sales\""
   ]
  },
  {
   "cell_type": "code",
   "execution_count": 12,
   "metadata": {
    "ExecuteTime": {
     "end_time": "2021-01-18T14:28:11.183492Z",
     "start_time": "2021-01-18T14:28:11.159723Z"
    }
   },
   "outputs": [
    {
     "data": {
      "text/html": [
       "<div>\n",
       "<style>\n",
       "    .dataframe thead tr:only-child th {\n",
       "        text-align: right;\n",
       "    }\n",
       "\n",
       "    .dataframe thead th {\n",
       "        text-align: left;\n",
       "    }\n",
       "\n",
       "    .dataframe tbody tr th {\n",
       "        vertical-align: top;\n",
       "    }\n",
       "</style>\n",
       "<table border=\"1\" class=\"dataframe\">\n",
       "  <thead>\n",
       "    <tr style=\"text-align: right;\">\n",
       "      <th></th>\n",
       "      <th>Title</th>\n",
       "      <th>Domestic_sales</th>\n",
       "      <th>International_sales</th>\n",
       "    </tr>\n",
       "  </thead>\n",
       "  <tbody>\n",
       "    <tr>\n",
       "      <th>0</th>\n",
       "      <td>Finding Nemo</td>\n",
       "      <td>380843261</td>\n",
       "      <td>555900000</td>\n",
       "    </tr>\n",
       "    <tr>\n",
       "      <th>1</th>\n",
       "      <td>Monsters University</td>\n",
       "      <td>268492764</td>\n",
       "      <td>475066843</td>\n",
       "    </tr>\n",
       "    <tr>\n",
       "      <th>2</th>\n",
       "      <td>Ratatouille</td>\n",
       "      <td>206445654</td>\n",
       "      <td>417277164</td>\n",
       "    </tr>\n",
       "    <tr>\n",
       "      <th>3</th>\n",
       "      <td>Cars 2</td>\n",
       "      <td>191452396</td>\n",
       "      <td>368400000</td>\n",
       "    </tr>\n",
       "    <tr>\n",
       "      <th>4</th>\n",
       "      <td>The Incredibles</td>\n",
       "      <td>261441092</td>\n",
       "      <td>370001000</td>\n",
       "    </tr>\n",
       "    <tr>\n",
       "      <th>5</th>\n",
       "      <td>WALL-E</td>\n",
       "      <td>223808164</td>\n",
       "      <td>297503696</td>\n",
       "    </tr>\n",
       "    <tr>\n",
       "      <th>6</th>\n",
       "      <td>Toy Story 3</td>\n",
       "      <td>415004880</td>\n",
       "      <td>648167031</td>\n",
       "    </tr>\n",
       "    <tr>\n",
       "      <th>7</th>\n",
       "      <td>Up</td>\n",
       "      <td>293004164</td>\n",
       "      <td>438338580</td>\n",
       "    </tr>\n",
       "    <tr>\n",
       "      <th>8</th>\n",
       "      <td>A Bug's Life</td>\n",
       "      <td>162798565</td>\n",
       "      <td>200600000</td>\n",
       "    </tr>\n",
       "    <tr>\n",
       "      <th>9</th>\n",
       "      <td>Brave</td>\n",
       "      <td>237283207</td>\n",
       "      <td>301700000</td>\n",
       "    </tr>\n",
       "  </tbody>\n",
       "</table>\n",
       "</div>"
      ],
      "text/plain": [
       "                 Title Domestic_sales International_sales\n",
       "0         Finding Nemo      380843261           555900000\n",
       "1  Monsters University      268492764           475066843\n",
       "2          Ratatouille      206445654           417277164\n",
       "3               Cars 2      191452396           368400000\n",
       "4      The Incredibles      261441092           370001000\n",
       "5               WALL-E      223808164           297503696\n",
       "6          Toy Story 3      415004880           648167031\n",
       "7                   Up      293004164           438338580\n",
       "8         A Bug's Life      162798565           200600000\n",
       "9                Brave      237283207           301700000"
      ]
     },
     "execution_count": 12,
     "metadata": {},
     "output_type": "execute_result"
    }
   ],
   "source": [
    "sqldf(QUERY2)"
   ]
  },
  {
   "cell_type": "markdown",
   "metadata": {},
   "source": [
    "3. Répertoriez tous les films par leur classement par ordre décroissant"
   ]
  },
  {
   "cell_type": "code",
   "execution_count": 17,
   "metadata": {
    "ExecuteTime": {
     "end_time": "2021-01-18T14:28:09.886634Z",
     "start_time": "2021-01-18T14:28:09.883564Z"
    }
   },
   "outputs": [],
   "source": [
    "QUERY3 = \"SELECT Title,rating  FROM Movies INNER JOIN BoxOffice ON Movies.Id = BoxOffice.Movie_id ORDER BY rating DESC\""
   ]
  },
  {
   "cell_type": "code",
   "execution_count": 18,
   "metadata": {
    "ExecuteTime": {
     "end_time": "2021-01-18T14:28:11.183492Z",
     "start_time": "2021-01-18T14:28:11.159723Z"
    }
   },
   "outputs": [
    {
     "data": {
      "text/html": [
       "<div>\n",
       "<style>\n",
       "    .dataframe thead tr:only-child th {\n",
       "        text-align: right;\n",
       "    }\n",
       "\n",
       "    .dataframe thead th {\n",
       "        text-align: left;\n",
       "    }\n",
       "\n",
       "    .dataframe tbody tr th {\n",
       "        vertical-align: top;\n",
       "    }\n",
       "</style>\n",
       "<table border=\"1\" class=\"dataframe\">\n",
       "  <thead>\n",
       "    <tr style=\"text-align: right;\">\n",
       "      <th></th>\n",
       "      <th>Title</th>\n",
       "      <th>Rating</th>\n",
       "    </tr>\n",
       "  </thead>\n",
       "  <tbody>\n",
       "    <tr>\n",
       "      <th>0</th>\n",
       "      <td>WALL-E</td>\n",
       "      <td>8.5</td>\n",
       "    </tr>\n",
       "    <tr>\n",
       "      <th>1</th>\n",
       "      <td>Toy Story 3</td>\n",
       "      <td>8.4</td>\n",
       "    </tr>\n",
       "    <tr>\n",
       "      <th>2</th>\n",
       "      <td>Toy Story</td>\n",
       "      <td>8.3</td>\n",
       "    </tr>\n",
       "    <tr>\n",
       "      <th>3</th>\n",
       "      <td>Up</td>\n",
       "      <td>8.3</td>\n",
       "    </tr>\n",
       "    <tr>\n",
       "      <th>4</th>\n",
       "      <td>Finding Nemo</td>\n",
       "      <td>8.2</td>\n",
       "    </tr>\n",
       "    <tr>\n",
       "      <th>5</th>\n",
       "      <td>Monsters, Inc.</td>\n",
       "      <td>8.1</td>\n",
       "    </tr>\n",
       "    <tr>\n",
       "      <th>6</th>\n",
       "      <td>The Incredibles</td>\n",
       "      <td>8</td>\n",
       "    </tr>\n",
       "    <tr>\n",
       "      <th>7</th>\n",
       "      <td>Ratatouille</td>\n",
       "      <td>8</td>\n",
       "    </tr>\n",
       "    <tr>\n",
       "      <th>8</th>\n",
       "      <td>Toy Story 2</td>\n",
       "      <td>7.9</td>\n",
       "    </tr>\n",
       "    <tr>\n",
       "      <th>9</th>\n",
       "      <td>Monsters University</td>\n",
       "      <td>7.4</td>\n",
       "    </tr>\n",
       "    <tr>\n",
       "      <th>10</th>\n",
       "      <td>A Bug's Life</td>\n",
       "      <td>7.2</td>\n",
       "    </tr>\n",
       "    <tr>\n",
       "      <th>11</th>\n",
       "      <td>Cars</td>\n",
       "      <td>7.2</td>\n",
       "    </tr>\n",
       "    <tr>\n",
       "      <th>12</th>\n",
       "      <td>Brave</td>\n",
       "      <td>7.2</td>\n",
       "    </tr>\n",
       "    <tr>\n",
       "      <th>13</th>\n",
       "      <td>Cars 2</td>\n",
       "      <td>6.4</td>\n",
       "    </tr>\n",
       "  </tbody>\n",
       "</table>\n",
       "</div>"
      ],
      "text/plain": [
       "                  Title Rating\n",
       "0                WALL-E    8.5\n",
       "1           Toy Story 3    8.4\n",
       "2             Toy Story    8.3\n",
       "3                    Up    8.3\n",
       "4          Finding Nemo    8.2\n",
       "5        Monsters, Inc.    8.1\n",
       "6       The Incredibles      8\n",
       "7           Ratatouille      8\n",
       "8           Toy Story 2    7.9\n",
       "9   Monsters University    7.4\n",
       "10         A Bug's Life    7.2\n",
       "11                 Cars    7.2\n",
       "12                Brave    7.2\n",
       "13               Cars 2    6.4"
      ]
     },
     "execution_count": 18,
     "metadata": {},
     "output_type": "execute_result"
    }
   ],
   "source": [
    "sqldf(QUERY3)"
   ]
  },
  {
   "cell_type": "code",
   "execution_count": null,
   "metadata": {},
   "outputs": [],
   "source": []
  }
 ],
 "metadata": {
  "kernelspec": {
   "display_name": "Python 3",
   "language": "python",
   "name": "python3"
  },
  "language_info": {
   "codemirror_mode": {
    "name": "ipython",
    "version": 3
   },
   "file_extension": ".py",
   "mimetype": "text/x-python",
   "name": "python",
   "nbconvert_exporter": "python",
   "pygments_lexer": "ipython3",
   "version": "3.6.13"
  }
 },
 "nbformat": 4,
 "nbformat_minor": 1
}
